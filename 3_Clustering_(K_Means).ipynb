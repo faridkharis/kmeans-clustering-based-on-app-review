{
  "cells": [
    {
      "cell_type": "markdown",
      "metadata": {
        "id": "view-in-github",
        "colab_type": "text"
      },
      "source": [
        "<a href=\"https://colab.research.google.com/github/faridkharis/kmeans-clustering-based-on-app-review/blob/master/3_Clustering_(K_Means).ipynb\" target=\"_parent\"><img src=\"https://colab.research.google.com/assets/colab-badge.svg\" alt=\"Open In Colab\"/></a>"
      ]
    },
    {
      "cell_type": "code",
      "execution_count": 1,
      "metadata": {
        "id": "eGC12Na_--3d"
      },
      "outputs": [],
      "source": [
        "import pandas as pd"
      ]
    },
    {
      "cell_type": "code",
      "execution_count": 2,
      "metadata": {
        "colab": {
          "base_uri": "https://localhost:8080/"
        },
        "id": "H6FdtDa__HBJ",
        "outputId": "c69f1d56-23e4-4350-8559-cc1b073f95d5"
      },
      "outputs": [
        {
          "output_type": "stream",
          "name": "stdout",
          "text": [
            "Drive already mounted at /content/drive/; to attempt to forcibly remount, call drive.mount(\"/content/drive/\", force_remount=True).\n"
          ]
        }
      ],
      "source": [
        "from google.colab import drive\n",
        "drive.mount('/content/drive/')"
      ]
    },
    {
      "cell_type": "code",
      "execution_count": 3,
      "metadata": {
        "id": "466EBA3G_N2E"
      },
      "outputs": [],
      "source": [
        "path = 'drive/MyDrive/Colab Notebooks/App Improvement Recommendation System/Data/'"
      ]
    },
    {
      "cell_type": "code",
      "execution_count": 4,
      "metadata": {
        "colab": {
          "base_uri": "https://localhost:8080/",
          "height": 423
        },
        "id": "GiYNMuFF_SQM",
        "outputId": "076e8f67-ce1c-421e-8e20-d0bc46495d8c"
      },
      "outputs": [
        {
          "output_type": "execute_result",
          "data": {
            "text/plain": [
              "                                  reviewId  \\\n",
              "0     93849d50-aa43-4bea-8cb4-2b68e70bea03   \n",
              "1     1520cf87-f7bf-4be6-886a-7c7e6d7d40ac   \n",
              "2     861cd396-7a64-484a-81c2-aae3c986e472   \n",
              "3     bd55e03c-3cf0-4a4c-af68-79bb1883475d   \n",
              "4     68070afc-8dc6-436a-af63-0e3240a376ff   \n",
              "...                                    ...   \n",
              "2445  9d104fe6-e9fc-4289-bca1-ff70d1996680   \n",
              "2446  2c62146d-a521-45f9-aaac-5e371f93fc92   \n",
              "2447  0bfce725-03e6-4abd-aa1f-7cb68d9a3f6a   \n",
              "2448  45cf797e-27e2-4eac-be22-7c7265caad9c   \n",
              "2449  e647b9a7-b4e9-4772-8cfe-354c54b84299   \n",
              "\n",
              "                                                content  score  \n",
              "0                                      ['confidential']      1  \n",
              "1     ['mutu', 'percaya', 'sma', 'komen', 'komena', ...      1  \n",
              "2                              ['hubung', 'ib', 'bank']      1  \n",
              "3     ['perangkat', 'redmi', 'note', 'operasi', 'and...      1  \n",
              "4                             ['besok', 'nyabagaimana']      1  \n",
              "...                                                 ...    ...  \n",
              "2445                        ['poin', 'error', 'top-up']      1  \n",
              "2446  ['hallo', 'tanggal', 'agustus', 'poin', 'senga...      1  \n",
              "2447  ['chat', 'dapetnya', 'sombong', 'user', 'takab...      1  \n",
              "2448  ['chat', 'sampek', 'sore', 'poin', 'sedih', 'p...      1  \n",
              "2449  ['kerja', 'akumulasi', 'poin', 'akumulasi', 'c...      1  \n",
              "\n",
              "[2450 rows x 3 columns]"
            ],
            "text/html": [
              "\n",
              "  <div id=\"df-d807df39-d366-4e46-9eb0-bc432c4dfe09\">\n",
              "    <div class=\"colab-df-container\">\n",
              "      <div>\n",
              "<style scoped>\n",
              "    .dataframe tbody tr th:only-of-type {\n",
              "        vertical-align: middle;\n",
              "    }\n",
              "\n",
              "    .dataframe tbody tr th {\n",
              "        vertical-align: top;\n",
              "    }\n",
              "\n",
              "    .dataframe thead th {\n",
              "        text-align: right;\n",
              "    }\n",
              "</style>\n",
              "<table border=\"1\" class=\"dataframe\">\n",
              "  <thead>\n",
              "    <tr style=\"text-align: right;\">\n",
              "      <th></th>\n",
              "      <th>reviewId</th>\n",
              "      <th>content</th>\n",
              "      <th>score</th>\n",
              "    </tr>\n",
              "  </thead>\n",
              "  <tbody>\n",
              "    <tr>\n",
              "      <th>0</th>\n",
              "      <td>93849d50-aa43-4bea-8cb4-2b68e70bea03</td>\n",
              "      <td>['confidential']</td>\n",
              "      <td>1</td>\n",
              "    </tr>\n",
              "    <tr>\n",
              "      <th>1</th>\n",
              "      <td>1520cf87-f7bf-4be6-886a-7c7e6d7d40ac</td>\n",
              "      <td>['mutu', 'percaya', 'sma', 'komen', 'komena', ...</td>\n",
              "      <td>1</td>\n",
              "    </tr>\n",
              "    <tr>\n",
              "      <th>2</th>\n",
              "      <td>861cd396-7a64-484a-81c2-aae3c986e472</td>\n",
              "      <td>['hubung', 'ib', 'bank']</td>\n",
              "      <td>1</td>\n",
              "    </tr>\n",
              "    <tr>\n",
              "      <th>3</th>\n",
              "      <td>bd55e03c-3cf0-4a4c-af68-79bb1883475d</td>\n",
              "      <td>['perangkat', 'redmi', 'note', 'operasi', 'and...</td>\n",
              "      <td>1</td>\n",
              "    </tr>\n",
              "    <tr>\n",
              "      <th>4</th>\n",
              "      <td>68070afc-8dc6-436a-af63-0e3240a376ff</td>\n",
              "      <td>['besok', 'nyabagaimana']</td>\n",
              "      <td>1</td>\n",
              "    </tr>\n",
              "    <tr>\n",
              "      <th>...</th>\n",
              "      <td>...</td>\n",
              "      <td>...</td>\n",
              "      <td>...</td>\n",
              "    </tr>\n",
              "    <tr>\n",
              "      <th>2445</th>\n",
              "      <td>9d104fe6-e9fc-4289-bca1-ff70d1996680</td>\n",
              "      <td>['poin', 'error', 'top-up']</td>\n",
              "      <td>1</td>\n",
              "    </tr>\n",
              "    <tr>\n",
              "      <th>2446</th>\n",
              "      <td>2c62146d-a521-45f9-aaac-5e371f93fc92</td>\n",
              "      <td>['hallo', 'tanggal', 'agustus', 'poin', 'senga...</td>\n",
              "      <td>1</td>\n",
              "    </tr>\n",
              "    <tr>\n",
              "      <th>2447</th>\n",
              "      <td>0bfce725-03e6-4abd-aa1f-7cb68d9a3f6a</td>\n",
              "      <td>['chat', 'dapetnya', 'sombong', 'user', 'takab...</td>\n",
              "      <td>1</td>\n",
              "    </tr>\n",
              "    <tr>\n",
              "      <th>2448</th>\n",
              "      <td>45cf797e-27e2-4eac-be22-7c7265caad9c</td>\n",
              "      <td>['chat', 'sampek', 'sore', 'poin', 'sedih', 'p...</td>\n",
              "      <td>1</td>\n",
              "    </tr>\n",
              "    <tr>\n",
              "      <th>2449</th>\n",
              "      <td>e647b9a7-b4e9-4772-8cfe-354c54b84299</td>\n",
              "      <td>['kerja', 'akumulasi', 'poin', 'akumulasi', 'c...</td>\n",
              "      <td>1</td>\n",
              "    </tr>\n",
              "  </tbody>\n",
              "</table>\n",
              "<p>2450 rows × 3 columns</p>\n",
              "</div>\n",
              "      <button class=\"colab-df-convert\" onclick=\"convertToInteractive('df-d807df39-d366-4e46-9eb0-bc432c4dfe09')\"\n",
              "              title=\"Convert this dataframe to an interactive table.\"\n",
              "              style=\"display:none;\">\n",
              "        \n",
              "  <svg xmlns=\"http://www.w3.org/2000/svg\" height=\"24px\"viewBox=\"0 0 24 24\"\n",
              "       width=\"24px\">\n",
              "    <path d=\"M0 0h24v24H0V0z\" fill=\"none\"/>\n",
              "    <path d=\"M18.56 5.44l.94 2.06.94-2.06 2.06-.94-2.06-.94-.94-2.06-.94 2.06-2.06.94zm-11 1L8.5 8.5l.94-2.06 2.06-.94-2.06-.94L8.5 2.5l-.94 2.06-2.06.94zm10 10l.94 2.06.94-2.06 2.06-.94-2.06-.94-.94-2.06-.94 2.06-2.06.94z\"/><path d=\"M17.41 7.96l-1.37-1.37c-.4-.4-.92-.59-1.43-.59-.52 0-1.04.2-1.43.59L10.3 9.45l-7.72 7.72c-.78.78-.78 2.05 0 2.83L4 21.41c.39.39.9.59 1.41.59.51 0 1.02-.2 1.41-.59l7.78-7.78 2.81-2.81c.8-.78.8-2.07 0-2.86zM5.41 20L4 18.59l7.72-7.72 1.47 1.35L5.41 20z\"/>\n",
              "  </svg>\n",
              "      </button>\n",
              "      \n",
              "  <style>\n",
              "    .colab-df-container {\n",
              "      display:flex;\n",
              "      flex-wrap:wrap;\n",
              "      gap: 12px;\n",
              "    }\n",
              "\n",
              "    .colab-df-convert {\n",
              "      background-color: #E8F0FE;\n",
              "      border: none;\n",
              "      border-radius: 50%;\n",
              "      cursor: pointer;\n",
              "      display: none;\n",
              "      fill: #1967D2;\n",
              "      height: 32px;\n",
              "      padding: 0 0 0 0;\n",
              "      width: 32px;\n",
              "    }\n",
              "\n",
              "    .colab-df-convert:hover {\n",
              "      background-color: #E2EBFA;\n",
              "      box-shadow: 0px 1px 2px rgba(60, 64, 67, 0.3), 0px 1px 3px 1px rgba(60, 64, 67, 0.15);\n",
              "      fill: #174EA6;\n",
              "    }\n",
              "\n",
              "    [theme=dark] .colab-df-convert {\n",
              "      background-color: #3B4455;\n",
              "      fill: #D2E3FC;\n",
              "    }\n",
              "\n",
              "    [theme=dark] .colab-df-convert:hover {\n",
              "      background-color: #434B5C;\n",
              "      box-shadow: 0px 1px 3px 1px rgba(0, 0, 0, 0.15);\n",
              "      filter: drop-shadow(0px 1px 2px rgba(0, 0, 0, 0.3));\n",
              "      fill: #FFFFFF;\n",
              "    }\n",
              "  </style>\n",
              "\n",
              "      <script>\n",
              "        const buttonEl =\n",
              "          document.querySelector('#df-d807df39-d366-4e46-9eb0-bc432c4dfe09 button.colab-df-convert');\n",
              "        buttonEl.style.display =\n",
              "          google.colab.kernel.accessAllowed ? 'block' : 'none';\n",
              "\n",
              "        async function convertToInteractive(key) {\n",
              "          const element = document.querySelector('#df-d807df39-d366-4e46-9eb0-bc432c4dfe09');\n",
              "          const dataTable =\n",
              "            await google.colab.kernel.invokeFunction('convertToInteractive',\n",
              "                                                     [key], {});\n",
              "          if (!dataTable) return;\n",
              "\n",
              "          const docLinkHtml = 'Like what you see? Visit the ' +\n",
              "            '<a target=\"_blank\" href=https://colab.research.google.com/notebooks/data_table.ipynb>data table notebook</a>'\n",
              "            + ' to learn more about interactive tables.';\n",
              "          element.innerHTML = '';\n",
              "          dataTable['output_type'] = 'display_data';\n",
              "          await google.colab.output.renderOutput(dataTable, element);\n",
              "          const docLink = document.createElement('div');\n",
              "          docLink.innerHTML = docLinkHtml;\n",
              "          element.appendChild(docLink);\n",
              "        }\n",
              "      </script>\n",
              "    </div>\n",
              "  </div>\n",
              "  "
            ]
          },
          "metadata": {},
          "execution_count": 4
        }
      ],
      "source": [
        "df = pd.read_csv(path + 'data-ulasan-oy-preprocessed.csv')\n",
        "df = df.drop(columns=['Unnamed: 0'])\n",
        "df"
      ]
    },
    {
      "cell_type": "code",
      "source": [
        "from sklearn.feature_extraction.text import TfidfVectorizer\n",
        "# from sklearn.feature_extraction.text import TfidfTransformer\n",
        "vectorizer = TfidfVectorizer()\n",
        "# tfidf_transformer = TfidfTransformer()\n",
        "\n",
        "vector_data = vectorizer.fit_transform(df['content'])\n",
        "\n",
        "vector_data.shape"
      ],
      "metadata": {
        "colab": {
          "base_uri": "https://localhost:8080/"
        },
        "id": "4gux0GnNwhe6",
        "outputId": "e920f253-9ad5-4e7f-e3bf-42a1320e9f97"
      },
      "execution_count": 5,
      "outputs": [
        {
          "output_type": "execute_result",
          "data": {
            "text/plain": [
              "(2450, 2961)"
            ]
          },
          "metadata": {},
          "execution_count": 5
        }
      ]
    },
    {
      "cell_type": "code",
      "source": [
        "from sklearn.cluster import KMeans\n",
        "from sklearn.metrics import silhouette_score\n",
        "\n",
        "best_k = 0\n",
        "best_silhoutte_score = -1\n",
        "\n",
        "# Loop over different values of k\n",
        "for k in range(2, 7):\n",
        "    kmeans = KMeans(n_clusters=k, n_init=\"auto\", random_state=0)\n",
        "    labels = kmeans.fit_predict(vector_data)\n",
        "    \n",
        "    # Calculate silhouette score\n",
        "    score = silhouette_score(vector_data, labels)\n",
        "    print(\"For k = {}, silhouette score is {}\".format(k, score))\n",
        "\n",
        "    if score > best_silhoutte_score:\n",
        "      best_silhoutte_score = score\n",
        "      best_k = k\n",
        "\n",
        "print(\"Best k : \", best_k)\n",
        "print(\"Best Silhoutte Score : \", best_silhoutte_score)"
      ],
      "metadata": {
        "colab": {
          "base_uri": "https://localhost:8080/"
        },
        "id": "msBmq7FH2Kvo",
        "outputId": "8936ca45-390d-473d-f5f5-b702b746ef36"
      },
      "execution_count": 8,
      "outputs": [
        {
          "output_type": "stream",
          "name": "stdout",
          "text": [
            "For k = 2, silhouette score is 0.02551331844160966\n",
            "For k = 3, silhouette score is 0.029259170804298056\n",
            "For k = 4, silhouette score is 0.0320222699465735\n",
            "For k = 5, silhouette score is 0.0308037385723568\n",
            "For k = 6, silhouette score is 0.03111632864048554\n",
            "Best k :  4\n",
            "Best Silhoutte Score :  0.0320222699465735\n"
          ]
        }
      ]
    },
    {
      "cell_type": "code",
      "source": [
        "print(\"Top terms per cluster:\")\n",
        "order_centroids = kmeans.cluster_centers_.argsort()[:, ::-1]\n",
        "terms = vectorizer.get_feature_names_out()\n",
        "for i in range(best_k):\n",
        "  print(\"Cluster %d:\" % i, end='')\n",
        "  for ind in order_centroids[i, :2]:\n",
        "    print(' %s' % terms[ind], end='')\n",
        "    print()"
      ],
      "metadata": {
        "id": "5pzaV7mU4i7N",
        "colab": {
          "base_uri": "https://localhost:8080/"
        },
        "outputId": "f3f0e0a7-5fea-4219-c18b-2fe8f2bc8740"
      },
      "execution_count": 10,
      "outputs": [
        {
          "output_type": "stream",
          "name": "stdout",
          "text": [
            "Top terms per cluster:\n",
            "Cluster 0: tukar\n",
            " pulsa\n",
            "Cluster 1: poin\n",
            " redeem\n",
            "Cluster 2: pulsa\n",
            " redeem\n",
            "Cluster 3: bank\n",
            " transfer\n"
          ]
        }
      ]
    },
    {
      "cell_type": "code",
      "source": [
        "topics = []\n",
        "order_centroids = kmeans.cluster_centers_.argsort()[:, ::-1]\n",
        "terms = vectorizer.get_feature_names_out()\n",
        "for i in range(best_k):\n",
        "  for j in order_centroids[i, :2]:\n",
        "    topics.append(terms[j])\n",
        "\n",
        "print(topics)"
      ],
      "metadata": {
        "colab": {
          "base_uri": "https://localhost:8080/"
        },
        "id": "A59KYYF3eaDj",
        "outputId": "02c06cce-86fe-4acc-da56-84e0a71438b7"
      },
      "execution_count": 11,
      "outputs": [
        {
          "output_type": "stream",
          "name": "stdout",
          "text": [
            "['tukar', 'pulsa', 'poin', 'redeem', 'pulsa', 'redeem', 'bank', 'transfer']\n"
          ]
        }
      ]
    },
    {
      "cell_type": "code",
      "source": [
        "import matplotlib.pyplot as plt\n",
        "from sklearn.decomposition import PCA\n",
        "from sklearn.cluster import KMeans\n",
        "\n",
        "# Apply PCA to reduce the dimensionality of the data down to two dimensions\n",
        "pca = PCA(n_components=2)\n",
        "reduced_data = pca.fit_transform(vector_data.toarray())\n",
        "\n",
        "# Apply KMeans clustering to the reduced data\n",
        "kmeans = KMeans(n_clusters=best_k)\n",
        "cluster_labels = kmeans.fit_predict(reduced_data)\n",
        "centroids = kmeans.cluster_centers_\n",
        "\n",
        "# Create a scatter plot of the reduced data, with points colored by cluster label\n",
        "plt.scatter(reduced_data[:, 0], reduced_data[:, 1], c=cluster_labels)\n",
        "\n",
        "# Add centroid labels to the plot\n",
        "for i, centroid in enumerate(centroids):\n",
        "    plt.scatter(centroid[0], centroid[1], marker='o', s=300, edgecolors='black', linewidths=1)\n",
        "    plt.annotate('C{}'.format(i+1), xy=(centroid[0], centroid[1]), xytext=(centroid[0]-0.02, centroid[1]-0.02),\n",
        "                 color='black', fontsize=10, fontweight='normal', ha='left', va='bottom')\n",
        "\n",
        "# Set x and y axis labels\n",
        "plt.xlabel('X')\n",
        "plt.ylabel('Y')\n",
        "\n",
        "# Show the plot\n",
        "plt.show()"
      ],
      "metadata": {
        "colab": {
          "base_uri": "https://localhost:8080/",
          "height": 505
        },
        "id": "-6MGH7bBWBSq",
        "outputId": "f452f482-e569-4db2-fa3c-52f2d9ae3196"
      },
      "execution_count": 12,
      "outputs": [
        {
          "output_type": "stream",
          "name": "stderr",
          "text": [
            "/usr/local/lib/python3.10/dist-packages/sklearn/cluster/_kmeans.py:870: FutureWarning: The default value of `n_init` will change from 10 to 'auto' in 1.4. Set the value of `n_init` explicitly to suppress the warning\n",
            "  warnings.warn(\n"
          ]
        },
        {
          "output_type": "display_data",
          "data": {
            "text/plain": [
              "<Figure size 640x480 with 1 Axes>"
            ],
            "image/png": "[encoded data removed]"
          },
          "metadata": {}
        }
      ]
    },
    {
      "cell_type": "code",
      "source": [
        "# import json\n",
        "# a = reduced_data.tolist()\n",
        "# b = [{'x': x[0], 'y': x[1]} for i, x in enumerate(a)]\n",
        "# print(b)"
      ],
      "metadata": {
        "id": "97zOBCa9SL8i"
      },
      "execution_count": 10,
      "outputs": []
    },
    {
      "cell_type": "code",
      "source": [
        "df['cluster'] = cluster_labels\n",
        "df['topic'] = cluster_labels\n",
        "\n",
        "for i in range(best_k):\n",
        "  df['topic'] = df['topic'].replace([i], topics[i*2]+' '+topics[i*2+1])"
      ],
      "metadata": {
        "id": "ePgxp5HW3S2z"
      },
      "execution_count": 13,
      "outputs": []
    },
    {
      "cell_type": "code",
      "source": [
        "df"
      ],
      "metadata": {
        "colab": {
          "base_uri": "https://localhost:8080/",
          "height": 423
        },
        "id": "LHYGjm97WKAE",
        "outputId": "e4daa7c0-5988-4b56-9558-052d5963eaab"
      },
      "execution_count": 14,
      "outputs": [
        {
          "output_type": "execute_result",
          "data": {
            "text/plain": [
              "                                  reviewId  \\\n",
              "0     93849d50-aa43-4bea-8cb4-2b68e70bea03   \n",
              "1     1520cf87-f7bf-4be6-886a-7c7e6d7d40ac   \n",
              "2     861cd396-7a64-484a-81c2-aae3c986e472   \n",
              "3     bd55e03c-3cf0-4a4c-af68-79bb1883475d   \n",
              "4     68070afc-8dc6-436a-af63-0e3240a376ff   \n",
              "...                                    ...   \n",
              "2445  9d104fe6-e9fc-4289-bca1-ff70d1996680   \n",
              "2446  2c62146d-a521-45f9-aaac-5e371f93fc92   \n",
              "2447  0bfce725-03e6-4abd-aa1f-7cb68d9a3f6a   \n",
              "2448  45cf797e-27e2-4eac-be22-7c7265caad9c   \n",
              "2449  e647b9a7-b4e9-4772-8cfe-354c54b84299   \n",
              "\n",
              "                                                content  score  cluster  \\\n",
              "0                                      ['confidential']      1        0   \n",
              "1     ['mutu', 'percaya', 'sma', 'komen', 'komena', ...      1        0   \n",
              "2                              ['hubung', 'ib', 'bank']      1        0   \n",
              "3     ['perangkat', 'redmi', 'note', 'operasi', 'and...      1        0   \n",
              "4                             ['besok', 'nyabagaimana']      1        0   \n",
              "...                                                 ...    ...      ...   \n",
              "2445                        ['poin', 'error', 'top-up']      1        0   \n",
              "2446  ['hallo', 'tanggal', 'agustus', 'poin', 'senga...      1        0   \n",
              "2447  ['chat', 'dapetnya', 'sombong', 'user', 'takab...      1        0   \n",
              "2448  ['chat', 'sampek', 'sore', 'poin', 'sedih', 'p...      1        0   \n",
              "2449  ['kerja', 'akumulasi', 'poin', 'akumulasi', 'c...      1        0   \n",
              "\n",
              "            topic  \n",
              "0     tukar pulsa  \n",
              "1     tukar pulsa  \n",
              "2     tukar pulsa  \n",
              "3     tukar pulsa  \n",
              "4     tukar pulsa  \n",
              "...           ...  \n",
              "2445  tukar pulsa  \n",
              "2446  tukar pulsa  \n",
              "2447  tukar pulsa  \n",
              "2448  tukar pulsa  \n",
              "2449  tukar pulsa  \n",
              "\n",
              "[2450 rows x 5 columns]"
            ],
            "text/html": [
              "\n",
              "  <div id=\"df-95be960f-60e6-4d23-9d3f-4122ab084e28\">\n",
              "    <div class=\"colab-df-container\">\n",
              "      <div>\n",
              "<style scoped>\n",
              "    .dataframe tbody tr th:only-of-type {\n",
              "        vertical-align: middle;\n",
              "    }\n",
              "\n",
              "    .dataframe tbody tr th {\n",
              "        vertical-align: top;\n",
              "    }\n",
              "\n",
              "    .dataframe thead th {\n",
              "        text-align: right;\n",
              "    }\n",
              "</style>\n",
              "<table border=\"1\" class=\"dataframe\">\n",
              "  <thead>\n",
              "    <tr style=\"text-align: right;\">\n",
              "      <th></th>\n",
              "      <th>reviewId</th>\n",
              "      <th>content</th>\n",
              "      <th>score</th>\n",
              "      <th>cluster</th>\n",
              "      <th>topic</th>\n",
              "    </tr>\n",
              "  </thead>\n",
              "  <tbody>\n",
              "    <tr>\n",
              "      <th>0</th>\n",
              "      <td>93849d50-aa43-4bea-8cb4-2b68e70bea03</td>\n",
              "      <td>['confidential']</td>\n",
              "      <td>1</td>\n",
              "      <td>0</td>\n",
              "      <td>tukar pulsa</td>\n",
              "    </tr>\n",
              "    <tr>\n",
              "      <th>1</th>\n",
              "      <td>1520cf87-f7bf-4be6-886a-7c7e6d7d40ac</td>\n",
              "      <td>['mutu', 'percaya', 'sma', 'komen', 'komena', ...</td>\n",
              "      <td>1</td>\n",
              "      <td>0</td>\n",
              "      <td>tukar pulsa</td>\n",
              "    </tr>\n",
              "    <tr>\n",
              "      <th>2</th>\n",
              "      <td>861cd396-7a64-484a-81c2-aae3c986e472</td>\n",
              "      <td>['hubung', 'ib', 'bank']</td>\n",
              "      <td>1</td>\n",
              "      <td>0</td>\n",
              "      <td>tukar pulsa</td>\n",
              "    </tr>\n",
              "    <tr>\n",
              "      <th>3</th>\n",
              "      <td>bd55e03c-3cf0-4a4c-af68-79bb1883475d</td>\n",
              "      <td>['perangkat', 'redmi', 'note', 'operasi', 'and...</td>\n",
              "      <td>1</td>\n",
              "      <td>0</td>\n",
              "      <td>tukar pulsa</td>\n",
              "    </tr>\n",
              "    <tr>\n",
              "      <th>4</th>\n",
              "      <td>68070afc-8dc6-436a-af63-0e3240a376ff</td>\n",
              "      <td>['besok', 'nyabagaimana']</td>\n",
              "      <td>1</td>\n",
              "      <td>0</td>\n",
              "      <td>tukar pulsa</td>\n",
              "    </tr>\n",
              "    <tr>\n",
              "      <th>...</th>\n",
              "      <td>...</td>\n",
              "      <td>...</td>\n",
              "      <td>...</td>\n",
              "      <td>...</td>\n",
              "      <td>...</td>\n",
              "    </tr>\n",
              "    <tr>\n",
              "      <th>2445</th>\n",
              "      <td>9d104fe6-e9fc-4289-bca1-ff70d1996680</td>\n",
              "      <td>['poin', 'error', 'top-up']</td>\n",
              "      <td>1</td>\n",
              "      <td>0</td>\n",
              "      <td>tukar pulsa</td>\n",
              "    </tr>\n",
              "    <tr>\n",
              "      <th>2446</th>\n",
              "      <td>2c62146d-a521-45f9-aaac-5e371f93fc92</td>\n",
              "      <td>['hallo', 'tanggal', 'agustus', 'poin', 'senga...</td>\n",
              "      <td>1</td>\n",
              "      <td>0</td>\n",
              "      <td>tukar pulsa</td>\n",
              "    </tr>\n",
              "    <tr>\n",
              "      <th>2447</th>\n",
              "      <td>0bfce725-03e6-4abd-aa1f-7cb68d9a3f6a</td>\n",
              "      <td>['chat', 'dapetnya', 'sombong', 'user', 'takab...</td>\n",
              "      <td>1</td>\n",
              "      <td>0</td>\n",
              "      <td>tukar pulsa</td>\n",
              "    </tr>\n",
              "    <tr>\n",
              "      <th>2448</th>\n",
              "      <td>45cf797e-27e2-4eac-be22-7c7265caad9c</td>\n",
              "      <td>['chat', 'sampek', 'sore', 'poin', 'sedih', 'p...</td>\n",
              "      <td>1</td>\n",
              "      <td>0</td>\n",
              "      <td>tukar pulsa</td>\n",
              "    </tr>\n",
              "    <tr>\n",
              "      <th>2449</th>\n",
              "      <td>e647b9a7-b4e9-4772-8cfe-354c54b84299</td>\n",
              "      <td>['kerja', 'akumulasi', 'poin', 'akumulasi', 'c...</td>\n",
              "      <td>1</td>\n",
              "      <td>0</td>\n",
              "      <td>tukar pulsa</td>\n",
              "    </tr>\n",
              "  </tbody>\n",
              "</table>\n",
              "<p>2450 rows × 5 columns</p>\n",
              "</div>\n",
              "      <button class=\"colab-df-convert\" onclick=\"convertToInteractive('df-95be960f-60e6-4d23-9d3f-4122ab084e28')\"\n",
              "              title=\"Convert this dataframe to an interactive table.\"\n",
              "              style=\"display:none;\">\n",
              "        \n",
              "  <svg xmlns=\"http://www.w3.org/2000/svg\" height=\"24px\"viewBox=\"0 0 24 24\"\n",
              "       width=\"24px\">\n",
              "    <path d=\"M0 0h24v24H0V0z\" fill=\"none\"/>\n",
              "    <path d=\"M18.56 5.44l.94 2.06.94-2.06 2.06-.94-2.06-.94-.94-2.06-.94 2.06-2.06.94zm-11 1L8.5 8.5l.94-2.06 2.06-.94-2.06-.94L8.5 2.5l-.94 2.06-2.06.94zm10 10l.94 2.06.94-2.06 2.06-.94-2.06-.94-.94-2.06-.94 2.06-2.06.94z\"/><path d=\"M17.41 7.96l-1.37-1.37c-.4-.4-.92-.59-1.43-.59-.52 0-1.04.2-1.43.59L10.3 9.45l-7.72 7.72c-.78.78-.78 2.05 0 2.83L4 21.41c.39.39.9.59 1.41.59.51 0 1.02-.2 1.41-.59l7.78-7.78 2.81-2.81c.8-.78.8-2.07 0-2.86zM5.41 20L4 18.59l7.72-7.72 1.47 1.35L5.41 20z\"/>\n",
              "  </svg>\n",
              "      </button>\n",
              "      \n",
              "  <style>\n",
              "    .colab-df-container {\n",
              "      display:flex;\n",
              "      flex-wrap:wrap;\n",
              "      gap: 12px;\n",
              "    }\n",
              "\n",
              "    .colab-df-convert {\n",
              "      background-color: #E8F0FE;\n",
              "      border: none;\n",
              "      border-radius: 50%;\n",
              "      cursor: pointer;\n",
              "      display: none;\n",
              "      fill: #1967D2;\n",
              "      height: 32px;\n",
              "      padding: 0 0 0 0;\n",
              "      width: 32px;\n",
              "    }\n",
              "\n",
              "    .colab-df-convert:hover {\n",
              "      background-color: #E2EBFA;\n",
              "      box-shadow: 0px 1px 2px rgba(60, 64, 67, 0.3), 0px 1px 3px 1px rgba(60, 64, 67, 0.15);\n",
              "      fill: #174EA6;\n",
              "    }\n",
              "\n",
              "    [theme=dark] .colab-df-convert {\n",
              "      background-color: #3B4455;\n",
              "      fill: #D2E3FC;\n",
              "    }\n",
              "\n",
              "    [theme=dark] .colab-df-convert:hover {\n",
              "      background-color: #434B5C;\n",
              "      box-shadow: 0px 1px 3px 1px rgba(0, 0, 0, 0.15);\n",
              "      filter: drop-shadow(0px 1px 2px rgba(0, 0, 0, 0.3));\n",
              "      fill: #FFFFFF;\n",
              "    }\n",
              "  </style>\n",
              "\n",
              "      <script>\n",
              "        const buttonEl =\n",
              "          document.querySelector('#df-95be960f-60e6-4d23-9d3f-4122ab084e28 button.colab-df-convert');\n",
              "        buttonEl.style.display =\n",
              "          google.colab.kernel.accessAllowed ? 'block' : 'none';\n",
              "\n",
              "        async function convertToInteractive(key) {\n",
              "          const element = document.querySelector('#df-95be960f-60e6-4d23-9d3f-4122ab084e28');\n",
              "          const dataTable =\n",
              "            await google.colab.kernel.invokeFunction('convertToInteractive',\n",
              "                                                     [key], {});\n",
              "          if (!dataTable) return;\n",
              "\n",
              "          const docLinkHtml = 'Like what you see? Visit the ' +\n",
              "            '<a target=\"_blank\" href=https://colab.research.google.com/notebooks/data_table.ipynb>data table notebook</a>'\n",
              "            + ' to learn more about interactive tables.';\n",
              "          element.innerHTML = '';\n",
              "          dataTable['output_type'] = 'display_data';\n",
              "          await google.colab.output.renderOutput(dataTable, element);\n",
              "          const docLink = document.createElement('div');\n",
              "          docLink.innerHTML = docLinkHtml;\n",
              "          element.appendChild(docLink);\n",
              "        }\n",
              "      </script>\n",
              "    </div>\n",
              "  </div>\n",
              "  "
            ]
          },
          "metadata": {},
          "execution_count": 14
        }
      ]
    },
    {
      "cell_type": "code",
      "source": [
        "with open(path + 'data-ulasan-oy-topic.csv', 'w') as f:\n",
        "  df.to_csv(f)"
      ],
      "metadata": {
        "id": "Y1wJ9jWp8Hrh"
      },
      "execution_count": 15,
      "outputs": []
    }
  ],
  "metadata": {
    "colab": {
      "provenance": [],
      "authorship_tag": "ABX9TyOVhwHs++uNd9d1ZRFh7Aq/",
      "include_colab_link": true
    },
    "kernelspec": {
      "display_name": "Python 3",
      "name": "python3"
    },
    "language_info": {
      "name": "python"
    }
  },
  "nbformat": 4,
  "nbformat_minor": 0
}